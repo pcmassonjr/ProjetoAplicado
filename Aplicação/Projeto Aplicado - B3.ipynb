{
 "cells": [
  {
   "cell_type": "markdown",
   "metadata": {},
   "source": [
    "Importando as bibliotecas"
   ]
  },
  {
   "cell_type": "code",
   "execution_count": 88,
   "metadata": {},
   "outputs": [],
   "source": [
    "import numpy as np # Biblioteca de estatística\n",
    "import matplotlib.pyplot as plt # Biblioteca de visualizacao de dados\n",
    "import pandas as pd # Biblioteca de base de dados, ETL, consumo, etc"
   ]
  },
  {
   "cell_type": "markdown",
   "metadata": {},
   "source": [
    "Importando e consolidando as bases de dados Principais"
   ]
  },
  {
   "cell_type": "code",
   "execution_count": 89,
   "metadata": {},
   "outputs": [],
   "source": [
    "# Bases individuais\n",
    "base1 = pd.read_csv('https://raw.githubusercontent.com/pcmassonjr/ProjetoAplicado/main/Base%20de%20Dados/TradeInformationConsolidatedFile_20240301_1.csv', sep=';', low_memory=False) \n",
    "base2 = pd.read_csv('https://raw.githubusercontent.com/pcmassonjr/ProjetoAplicado/main/Base%20de%20Dados/TradeInformationConsolidatedFile_20240304_1.csv', sep=';', low_memory=False)\n",
    "base3 = pd.read_csv('https://raw.githubusercontent.com/pcmassonjr/ProjetoAplicado/main/Base%20de%20Dados/TradeInformationConsolidatedFile_20240305_1.csv', sep=';', low_memory=False)\n",
    "base4 = pd.read_csv('https://raw.githubusercontent.com/pcmassonjr/ProjetoAplicado/main/Base%20de%20Dados/TradeInformationConsolidatedFile_20240306_1.csv', sep=';', low_memory=False)\n",
    "base5 = pd.read_csv('https://raw.githubusercontent.com/pcmassonjr/ProjetoAplicado/main/Base%20de%20Dados/TradeInformationConsolidatedFile_20240307_1.csv', sep=';', low_memory=False)\n",
    "base6 = pd.read_csv('https://raw.githubusercontent.com/pcmassonjr/ProjetoAplicado/main/Base%20de%20Dados/TradeInformationConsolidatedFile_20240308_1.csv', sep=';', low_memory=False)\n",
    "base7 = pd.read_csv('https://raw.githubusercontent.com/pcmassonjr/ProjetoAplicado/main/Base%20de%20Dados/TradeInformationConsolidatedFile_20240311_1.csv', sep=';', low_memory=False)\n",
    "base8 = pd.read_csv('https://raw.githubusercontent.com/pcmassonjr/ProjetoAplicado/main/Base%20de%20Dados/TradeInformationConsolidatedFile_20240312_1.csv', sep=';', low_memory=False)\n",
    "base9 = pd.read_csv('https://raw.githubusercontent.com/pcmassonjr/ProjetoAplicado/main/Base%20de%20Dados/TradeInformationConsolidatedFile_20240313_1.csv', sep=';', low_memory=False)\n",
    "base10 = pd.read_csv('https://raw.githubusercontent.com/pcmassonjr/ProjetoAplicado/main/Base%20de%20Dados/TradeInformationConsolidatedFile_20240314_1.csv', sep=';', low_memory=False)\n",
    "base11 = pd.read_csv('https://raw.githubusercontent.com/pcmassonjr/ProjetoAplicado/main/Base%20de%20Dados/TradeInformationConsolidatedFile_20240315_1.csv', sep=';', low_memory=False)\n",
    "base12 = pd.read_csv('https://raw.githubusercontent.com/pcmassonjr/ProjetoAplicado/main/Base%20de%20Dados/TradeInformationConsolidatedFile_20240318_1.csv', sep=';', low_memory=False)\n",
    "base13 = pd.read_csv('https://raw.githubusercontent.com/pcmassonjr/ProjetoAplicado/main/Base%20de%20Dados/TradeInformationConsolidatedFile_20240319_1.csv', sep=';', low_memory=False)\n",
    "base14 = pd.read_csv('https://raw.githubusercontent.com/pcmassonjr/ProjetoAplicado/main/Base%20de%20Dados/TradeInformationConsolidatedFile_20240320_1.csv', sep=';', low_memory=False)\n",
    "base15 = pd.read_csv('https://raw.githubusercontent.com/pcmassonjr/ProjetoAplicado/main/Base%20de%20Dados/TradeInformationConsolidatedFile_20240321_1.csv', sep=';', low_memory=False)\n",
    "base16 = pd.read_csv('https://raw.githubusercontent.com/pcmassonjr/ProjetoAplicado/main/Base%20de%20Dados/TradeInformationConsolidatedFile_20240322_1.csv', sep=';', low_memory=False)\n",
    "base17 = pd.read_csv('https://raw.githubusercontent.com/pcmassonjr/ProjetoAplicado/main/Base%20de%20Dados/TradeInformationConsolidatedFile_20240325_1.csv', sep=';', low_memory=False)\n",
    "base18 = pd.read_csv('https://raw.githubusercontent.com/pcmassonjr/ProjetoAplicado/main/Base%20de%20Dados/TradeInformationConsolidatedFile_20240326_1.csv', sep=';', low_memory=False)\n",
    "base19 = pd.read_csv('https://raw.githubusercontent.com/pcmassonjr/ProjetoAplicado/main/Base%20de%20Dados/TradeInformationConsolidatedFile_20240327_1.csv', sep=';', low_memory=False)\n",
    "base20 = pd.read_csv('https://raw.githubusercontent.com/pcmassonjr/ProjetoAplicado/main/Base%20de%20Dados/TradeInformationConsolidatedFile_20240328_1.csv', sep=';', low_memory=False)\n",
    "\n",
    "# Base consolidada (Principal)\n",
    "Base_Consolidada = pd.concat([base1, base2, base3, base4, base5, base6, base7, base8, base9, base10, base11, base12, base13, base14, base15, base16, base17, base18, base19, base20])"
   ]
  },
  {
   "cell_type": "markdown",
   "metadata": {},
   "source": [
    "Importando a base de dados de apoio"
   ]
  },
  {
   "cell_type": "code",
   "execution_count": 90,
   "metadata": {},
   "outputs": [],
   "source": [
    "Base_Apoio = pd.read_csv('https://raw.githubusercontent.com/pcmassonjr/ProjetoAplicado/main/Base%20de%20Dados/InstrumentsConsolidatedFile_20240401_1.csv', sep=';', encoding='ISO-8859-1', low_memory=False)"
   ]
  },
  {
   "cell_type": "markdown",
   "metadata": {},
   "source": [
    "Vinculando a base principal com a base de apoio"
   ]
  },
  {
   "cell_type": "code",
   "execution_count": 91,
   "metadata": {},
   "outputs": [],
   "source": [
    "Base_Final = pd.merge(Base_Consolidada, Base_Apoio, on= 'TckrSymb')"
   ]
  },
  {
   "cell_type": "markdown",
   "metadata": {},
   "source": [
    "Filtrando as comodities (Boi Gordo, Ouro, Soja, etc)"
   ]
  },
  {
   "cell_type": "code",
   "execution_count": 92,
   "metadata": {},
   "outputs": [],
   "source": [
    "Base_Final_Filtrada = Base_Final[Base_Final['Asst'].isin(['BGI', 'ICF', 'ETH', 'CCM', 'OZ1', 'SOY'])]"
   ]
  }
 ],
 "metadata": {
  "kernelspec": {
   "display_name": "Python 3",
   "language": "python",
   "name": "python3"
  },
  "language_info": {
   "codemirror_mode": {
    "name": "ipython",
    "version": 3
   },
   "file_extension": ".py",
   "mimetype": "text/x-python",
   "name": "python",
   "nbconvert_exporter": "python",
   "pygments_lexer": "ipython3",
   "version": "3.11.8"
  }
 },
 "nbformat": 4,
 "nbformat_minor": 2
}
