{
 "cells": [
  {
   "cell_type": "markdown",
   "metadata": {},
   "source": [
    "Importando as bibliotecas"
   ]
  },
  {
   "cell_type": "code",
   "execution_count": 109,
   "metadata": {},
   "outputs": [],
   "source": [
    "import pandas as pd # Biblioteca de base de dados, ETL, consumo, etc\n",
    "import numpy as np # Biblioteca de estatística\n",
    "import matplotlib.pyplot as plt # Biblioteca de visualizacao de dados\n",
    "import seaborn as sns"
   ]
  },
  {
   "cell_type": "markdown",
   "metadata": {},
   "source": [
    "Importando e consolidando as bases de dados Principais"
   ]
  },
  {
   "cell_type": "code",
   "execution_count": 110,
   "metadata": {},
   "outputs": [],
   "source": [
    "# Bases individuais\n",
    "base1 = pd.read_csv('https://raw.githubusercontent.com/pcmassonjr/ProjetoAplicado/main/Base%20de%20Dados/TradeInformationConsolidatedFile_20240301_1.csv', sep=';', low_memory=False) \n",
    "base2 = pd.read_csv('https://raw.githubusercontent.com/pcmassonjr/ProjetoAplicado/main/Base%20de%20Dados/TradeInformationConsolidatedFile_20240304_1.csv', sep=';', low_memory=False)\n",
    "base3 = pd.read_csv('https://raw.githubusercontent.com/pcmassonjr/ProjetoAplicado/main/Base%20de%20Dados/TradeInformationConsolidatedFile_20240305_1.csv', sep=';', low_memory=False)\n",
    "base4 = pd.read_csv('https://raw.githubusercontent.com/pcmassonjr/ProjetoAplicado/main/Base%20de%20Dados/TradeInformationConsolidatedFile_20240306_1.csv', sep=';', low_memory=False)\n",
    "base5 = pd.read_csv('https://raw.githubusercontent.com/pcmassonjr/ProjetoAplicado/main/Base%20de%20Dados/TradeInformationConsolidatedFile_20240307_1.csv', sep=';', low_memory=False)\n",
    "base6 = pd.read_csv('https://raw.githubusercontent.com/pcmassonjr/ProjetoAplicado/main/Base%20de%20Dados/TradeInformationConsolidatedFile_20240308_1.csv', sep=';', low_memory=False)\n",
    "base7 = pd.read_csv('https://raw.githubusercontent.com/pcmassonjr/ProjetoAplicado/main/Base%20de%20Dados/TradeInformationConsolidatedFile_20240311_1.csv', sep=';', low_memory=False)\n",
    "base8 = pd.read_csv('https://raw.githubusercontent.com/pcmassonjr/ProjetoAplicado/main/Base%20de%20Dados/TradeInformationConsolidatedFile_20240312_1.csv', sep=';', low_memory=False)\n",
    "base9 = pd.read_csv('https://raw.githubusercontent.com/pcmassonjr/ProjetoAplicado/main/Base%20de%20Dados/TradeInformationConsolidatedFile_20240313_1.csv', sep=';', low_memory=False)\n",
    "base10 = pd.read_csv('https://raw.githubusercontent.com/pcmassonjr/ProjetoAplicado/main/Base%20de%20Dados/TradeInformationConsolidatedFile_20240314_1.csv', sep=';', low_memory=False)\n",
    "base11 = pd.read_csv('https://raw.githubusercontent.com/pcmassonjr/ProjetoAplicado/main/Base%20de%20Dados/TradeInformationConsolidatedFile_20240315_1.csv', sep=';', low_memory=False)\n",
    "base12 = pd.read_csv('https://raw.githubusercontent.com/pcmassonjr/ProjetoAplicado/main/Base%20de%20Dados/TradeInformationConsolidatedFile_20240318_1.csv', sep=';', low_memory=False)\n",
    "base13 = pd.read_csv('https://raw.githubusercontent.com/pcmassonjr/ProjetoAplicado/main/Base%20de%20Dados/TradeInformationConsolidatedFile_20240319_1.csv', sep=';', low_memory=False)\n",
    "base14 = pd.read_csv('https://raw.githubusercontent.com/pcmassonjr/ProjetoAplicado/main/Base%20de%20Dados/TradeInformationConsolidatedFile_20240320_1.csv', sep=';', low_memory=False)\n",
    "base15 = pd.read_csv('https://raw.githubusercontent.com/pcmassonjr/ProjetoAplicado/main/Base%20de%20Dados/TradeInformationConsolidatedFile_20240321_1.csv', sep=';', low_memory=False)\n",
    "base16 = pd.read_csv('https://raw.githubusercontent.com/pcmassonjr/ProjetoAplicado/main/Base%20de%20Dados/TradeInformationConsolidatedFile_20240322_1.csv', sep=';', low_memory=False)\n",
    "base17 = pd.read_csv('https://raw.githubusercontent.com/pcmassonjr/ProjetoAplicado/main/Base%20de%20Dados/TradeInformationConsolidatedFile_20240325_1.csv', sep=';', low_memory=False)\n",
    "base18 = pd.read_csv('https://raw.githubusercontent.com/pcmassonjr/ProjetoAplicado/main/Base%20de%20Dados/TradeInformationConsolidatedFile_20240326_1.csv', sep=';', low_memory=False)\n",
    "base19 = pd.read_csv('https://raw.githubusercontent.com/pcmassonjr/ProjetoAplicado/main/Base%20de%20Dados/TradeInformationConsolidatedFile_20240327_1.csv', sep=';', low_memory=False)\n",
    "base20 = pd.read_csv('https://raw.githubusercontent.com/pcmassonjr/ProjetoAplicado/main/Base%20de%20Dados/TradeInformationConsolidatedFile_20240328_1.csv', sep=';', low_memory=False)\n",
    "\n",
    "# Base consolidada (Principal)\n",
    "Base_Consolidada = pd.concat([base1, base2, base3, base4, base5, base6, base7, base8, base9, base10, base11, base12, base13, base14, base15, base16, base17, base18, base19, base20])"
   ]
  },
  {
   "cell_type": "markdown",
   "metadata": {},
   "source": [
    "Alterando o tipo dos dados"
   ]
  },
  {
   "cell_type": "code",
   "execution_count": 111,
   "metadata": {},
   "outputs": [],
   "source": [
    "Base_Consolidada['MinPric'] = Base_Consolidada['MinPric'].str.replace(',', '.').astype(float)\n",
    "Base_Consolidada['MaxPric'] = Base_Consolidada['MaxPric'].str.replace(',', '.').astype(float)\n",
    "Base_Consolidada['TradAvrgPric'] = Base_Consolidada['TradAvrgPric'].str.replace(',', '.').astype(float)\n",
    "Base_Consolidada['LastPric'] = Base_Consolidada['LastPric'].str.replace(',', '.').astype(float)"
   ]
  },
  {
   "cell_type": "markdown",
   "metadata": {},
   "source": [
    "Convertendo a data"
   ]
  },
  {
   "cell_type": "code",
   "execution_count": 112,
   "metadata": {},
   "outputs": [],
   "source": [
    "Base_Consolidada['RptDt'] = pd.to_datetime(Base_Consolidada['RptDt'], format='%d/%m/%Y')"
   ]
  },
  {
   "cell_type": "markdown",
   "metadata": {},
   "source": [
    "Criando quebras de data"
   ]
  },
  {
   "cell_type": "code",
   "execution_count": 113,
   "metadata": {},
   "outputs": [],
   "source": [
    "Base_Consolidada['Dia'] = Base_Consolidada['RptDt'].dt.day\n",
    "Base_Consolidada['Mes'] = Base_Consolidada['RptDt'].dt.month\n",
    "Base_Consolidada['Ano'] = Base_Consolidada['RptDt'].dt.year"
   ]
  },
  {
   "cell_type": "code",
   "execution_count": 114,
   "metadata": {},
   "outputs": [
    {
     "data": {
      "text/html": [
       "<div>\n",
       "<style scoped>\n",
       "    .dataframe tbody tr th:only-of-type {\n",
       "        vertical-align: middle;\n",
       "    }\n",
       "\n",
       "    .dataframe tbody tr th {\n",
       "        vertical-align: top;\n",
       "    }\n",
       "\n",
       "    .dataframe thead th {\n",
       "        text-align: right;\n",
       "    }\n",
       "</style>\n",
       "<table border=\"1\" class=\"dataframe\">\n",
       "  <thead>\n",
       "    <tr style=\"text-align: right;\">\n",
       "      <th></th>\n",
       "      <th>RptDt</th>\n",
       "      <th>TckrSymb</th>\n",
       "      <th>ISIN</th>\n",
       "      <th>SgmtNm</th>\n",
       "      <th>MinPric</th>\n",
       "      <th>MaxPric</th>\n",
       "      <th>TradAvrgPric</th>\n",
       "      <th>LastPric</th>\n",
       "      <th>OscnPctg</th>\n",
       "      <th>AdjstdQt</th>\n",
       "      <th>AdjstdQtTax</th>\n",
       "      <th>RefPric</th>\n",
       "      <th>TradQty</th>\n",
       "      <th>FinInstrmQty</th>\n",
       "      <th>NtlFinVol</th>\n",
       "      <th>Dia</th>\n",
       "      <th>Mes</th>\n",
       "      <th>Ano</th>\n",
       "    </tr>\n",
       "  </thead>\n",
       "  <tbody>\n",
       "    <tr>\n",
       "      <th>0</th>\n",
       "      <td>2024-03-01</td>\n",
       "      <td>ABEVOH24</td>\n",
       "      <td>BRABEV330017</td>\n",
       "      <td>FINANCIAL</td>\n",
       "      <td>12.37</td>\n",
       "      <td>12.71</td>\n",
       "      <td>12.45</td>\n",
       "      <td>12.55</td>\n",
       "      <td>-0,71</td>\n",
       "      <td>12,49</td>\n",
       "      <td>NaN</td>\n",
       "      <td>NaN</td>\n",
       "      <td>141.0</td>\n",
       "      <td>69500.0</td>\n",
       "      <td>865478</td>\n",
       "      <td>1</td>\n",
       "      <td>3</td>\n",
       "      <td>2024</td>\n",
       "    </tr>\n",
       "    <tr>\n",
       "      <th>1</th>\n",
       "      <td>2024-03-01</td>\n",
       "      <td>ABEVOJ24</td>\n",
       "      <td>BRABEV340016</td>\n",
       "      <td>FINANCIAL</td>\n",
       "      <td>12.49</td>\n",
       "      <td>12.77</td>\n",
       "      <td>12.54</td>\n",
       "      <td>12.66</td>\n",
       "      <td>-0,78</td>\n",
       "      <td>12,61</td>\n",
       "      <td>NaN</td>\n",
       "      <td>NaN</td>\n",
       "      <td>66.0</td>\n",
       "      <td>30900.0</td>\n",
       "      <td>387790</td>\n",
       "      <td>1</td>\n",
       "      <td>3</td>\n",
       "      <td>2024</td>\n",
       "    </tr>\n",
       "    <tr>\n",
       "      <th>2</th>\n",
       "      <td>2024-03-01</td>\n",
       "      <td>AFSH24</td>\n",
       "      <td>BRBMEFAFS1Q6</td>\n",
       "      <td>FINANCIAL</td>\n",
       "      <td>NaN</td>\n",
       "      <td>NaN</td>\n",
       "      <td>NaN</td>\n",
       "      <td>NaN</td>\n",
       "      <td>NaN</td>\n",
       "      <td>19183,75</td>\n",
       "      <td>NaN</td>\n",
       "      <td>NaN</td>\n",
       "      <td>NaN</td>\n",
       "      <td>NaN</td>\n",
       "      <td>NaN</td>\n",
       "      <td>1</td>\n",
       "      <td>3</td>\n",
       "      <td>2024</td>\n",
       "    </tr>\n",
       "    <tr>\n",
       "      <th>3</th>\n",
       "      <td>2024-03-01</td>\n",
       "      <td>AFSJ24</td>\n",
       "      <td>BRBMEFAFS1R4</td>\n",
       "      <td>FINANCIAL</td>\n",
       "      <td>NaN</td>\n",
       "      <td>NaN</td>\n",
       "      <td>NaN</td>\n",
       "      <td>NaN</td>\n",
       "      <td>NaN</td>\n",
       "      <td>19130,4</td>\n",
       "      <td>NaN</td>\n",
       "      <td>NaN</td>\n",
       "      <td>NaN</td>\n",
       "      <td>NaN</td>\n",
       "      <td>NaN</td>\n",
       "      <td>1</td>\n",
       "      <td>3</td>\n",
       "      <td>2024</td>\n",
       "    </tr>\n",
       "    <tr>\n",
       "      <th>4</th>\n",
       "      <td>2024-03-01</td>\n",
       "      <td>AFSK24</td>\n",
       "      <td>BRBMEFAFS1S2</td>\n",
       "      <td>FINANCIAL</td>\n",
       "      <td>NaN</td>\n",
       "      <td>NaN</td>\n",
       "      <td>NaN</td>\n",
       "      <td>NaN</td>\n",
       "      <td>NaN</td>\n",
       "      <td>19182</td>\n",
       "      <td>NaN</td>\n",
       "      <td>NaN</td>\n",
       "      <td>NaN</td>\n",
       "      <td>NaN</td>\n",
       "      <td>NaN</td>\n",
       "      <td>1</td>\n",
       "      <td>3</td>\n",
       "      <td>2024</td>\n",
       "    </tr>\n",
       "    <tr>\n",
       "      <th>...</th>\n",
       "      <td>...</td>\n",
       "      <td>...</td>\n",
       "      <td>...</td>\n",
       "      <td>...</td>\n",
       "      <td>...</td>\n",
       "      <td>...</td>\n",
       "      <td>...</td>\n",
       "      <td>...</td>\n",
       "      <td>...</td>\n",
       "      <td>...</td>\n",
       "      <td>...</td>\n",
       "      <td>...</td>\n",
       "      <td>...</td>\n",
       "      <td>...</td>\n",
       "      <td>...</td>\n",
       "      <td>...</td>\n",
       "      <td>...</td>\n",
       "      <td>...</td>\n",
       "    </tr>\n",
       "    <tr>\n",
       "      <th>61985</th>\n",
       "      <td>2024-03-28</td>\n",
       "      <td>ZAMPP560</td>\n",
       "      <td>BRZAMP3P00F7</td>\n",
       "      <td>EQUITY PUT</td>\n",
       "      <td>NaN</td>\n",
       "      <td>NaN</td>\n",
       "      <td>NaN</td>\n",
       "      <td>NaN</td>\n",
       "      <td>NaN</td>\n",
       "      <td>NaN</td>\n",
       "      <td>NaN</td>\n",
       "      <td>2,18</td>\n",
       "      <td>NaN</td>\n",
       "      <td>NaN</td>\n",
       "      <td>NaN</td>\n",
       "      <td>28</td>\n",
       "      <td>3</td>\n",
       "      <td>2024</td>\n",
       "    </tr>\n",
       "    <tr>\n",
       "      <th>61986</th>\n",
       "      <td>2024-03-28</td>\n",
       "      <td>ZAMPP580</td>\n",
       "      <td>BRZAMP3P00D2</td>\n",
       "      <td>EQUITY PUT</td>\n",
       "      <td>NaN</td>\n",
       "      <td>NaN</td>\n",
       "      <td>NaN</td>\n",
       "      <td>NaN</td>\n",
       "      <td>NaN</td>\n",
       "      <td>NaN</td>\n",
       "      <td>NaN</td>\n",
       "      <td>2,38</td>\n",
       "      <td>NaN</td>\n",
       "      <td>NaN</td>\n",
       "      <td>NaN</td>\n",
       "      <td>28</td>\n",
       "      <td>3</td>\n",
       "      <td>2024</td>\n",
       "    </tr>\n",
       "    <tr>\n",
       "      <th>61987</th>\n",
       "      <td>2024-03-28</td>\n",
       "      <td>ZAMPP600</td>\n",
       "      <td>BRZAMP3P00C4</td>\n",
       "      <td>EQUITY PUT</td>\n",
       "      <td>NaN</td>\n",
       "      <td>NaN</td>\n",
       "      <td>NaN</td>\n",
       "      <td>NaN</td>\n",
       "      <td>NaN</td>\n",
       "      <td>NaN</td>\n",
       "      <td>NaN</td>\n",
       "      <td>2,57</td>\n",
       "      <td>NaN</td>\n",
       "      <td>NaN</td>\n",
       "      <td>NaN</td>\n",
       "      <td>28</td>\n",
       "      <td>3</td>\n",
       "      <td>2024</td>\n",
       "    </tr>\n",
       "    <tr>\n",
       "      <th>61988</th>\n",
       "      <td>2024-03-28</td>\n",
       "      <td>ZAMPP620</td>\n",
       "      <td>BRZAMP3P00E0</td>\n",
       "      <td>EQUITY PUT</td>\n",
       "      <td>NaN</td>\n",
       "      <td>NaN</td>\n",
       "      <td>NaN</td>\n",
       "      <td>NaN</td>\n",
       "      <td>NaN</td>\n",
       "      <td>NaN</td>\n",
       "      <td>NaN</td>\n",
       "      <td>2,77</td>\n",
       "      <td>NaN</td>\n",
       "      <td>NaN</td>\n",
       "      <td>NaN</td>\n",
       "      <td>28</td>\n",
       "      <td>3</td>\n",
       "      <td>2024</td>\n",
       "    </tr>\n",
       "    <tr>\n",
       "      <th>61989</th>\n",
       "      <td>2024-03-28</td>\n",
       "      <td>ZAMPR370</td>\n",
       "      <td>BRZAMP3R00I7</td>\n",
       "      <td>EQUITY PUT</td>\n",
       "      <td>NaN</td>\n",
       "      <td>NaN</td>\n",
       "      <td>NaN</td>\n",
       "      <td>NaN</td>\n",
       "      <td>NaN</td>\n",
       "      <td>NaN</td>\n",
       "      <td>NaN</td>\n",
       "      <td>0,48</td>\n",
       "      <td>NaN</td>\n",
       "      <td>NaN</td>\n",
       "      <td>NaN</td>\n",
       "      <td>28</td>\n",
       "      <td>3</td>\n",
       "      <td>2024</td>\n",
       "    </tr>\n",
       "  </tbody>\n",
       "</table>\n",
       "<p>1225971 rows × 18 columns</p>\n",
       "</div>"
      ],
      "text/plain": [
       "           RptDt  TckrSymb          ISIN      SgmtNm  MinPric  MaxPric  \\\n",
       "0     2024-03-01  ABEVOH24  BRABEV330017   FINANCIAL    12.37    12.71   \n",
       "1     2024-03-01  ABEVOJ24  BRABEV340016   FINANCIAL    12.49    12.77   \n",
       "2     2024-03-01    AFSH24  BRBMEFAFS1Q6   FINANCIAL      NaN      NaN   \n",
       "3     2024-03-01    AFSJ24  BRBMEFAFS1R4   FINANCIAL      NaN      NaN   \n",
       "4     2024-03-01    AFSK24  BRBMEFAFS1S2   FINANCIAL      NaN      NaN   \n",
       "...          ...       ...           ...         ...      ...      ...   \n",
       "61985 2024-03-28  ZAMPP560  BRZAMP3P00F7  EQUITY PUT      NaN      NaN   \n",
       "61986 2024-03-28  ZAMPP580  BRZAMP3P00D2  EQUITY PUT      NaN      NaN   \n",
       "61987 2024-03-28  ZAMPP600  BRZAMP3P00C4  EQUITY PUT      NaN      NaN   \n",
       "61988 2024-03-28  ZAMPP620  BRZAMP3P00E0  EQUITY PUT      NaN      NaN   \n",
       "61989 2024-03-28  ZAMPR370  BRZAMP3R00I7  EQUITY PUT      NaN      NaN   \n",
       "\n",
       "       TradAvrgPric  LastPric OscnPctg  AdjstdQt AdjstdQtTax RefPric  TradQty  \\\n",
       "0             12.45     12.55    -0,71     12,49         NaN     NaN    141.0   \n",
       "1             12.54     12.66    -0,78     12,61         NaN     NaN     66.0   \n",
       "2               NaN       NaN      NaN  19183,75         NaN     NaN      NaN   \n",
       "3               NaN       NaN      NaN   19130,4         NaN     NaN      NaN   \n",
       "4               NaN       NaN      NaN     19182         NaN     NaN      NaN   \n",
       "...             ...       ...      ...       ...         ...     ...      ...   \n",
       "61985           NaN       NaN      NaN       NaN         NaN    2,18      NaN   \n",
       "61986           NaN       NaN      NaN       NaN         NaN    2,38      NaN   \n",
       "61987           NaN       NaN      NaN       NaN         NaN    2,57      NaN   \n",
       "61988           NaN       NaN      NaN       NaN         NaN    2,77      NaN   \n",
       "61989           NaN       NaN      NaN       NaN         NaN    0,48      NaN   \n",
       "\n",
       "       FinInstrmQty NtlFinVol  Dia  Mes   Ano  \n",
       "0           69500.0    865478    1    3  2024  \n",
       "1           30900.0    387790    1    3  2024  \n",
       "2               NaN       NaN    1    3  2024  \n",
       "3               NaN       NaN    1    3  2024  \n",
       "4               NaN       NaN    1    3  2024  \n",
       "...             ...       ...  ...  ...   ...  \n",
       "61985           NaN       NaN   28    3  2024  \n",
       "61986           NaN       NaN   28    3  2024  \n",
       "61987           NaN       NaN   28    3  2024  \n",
       "61988           NaN       NaN   28    3  2024  \n",
       "61989           NaN       NaN   28    3  2024  \n",
       "\n",
       "[1225971 rows x 18 columns]"
      ]
     },
     "metadata": {},
     "output_type": "display_data"
    }
   ],
   "source": [
    "display(Base_Consolidada)"
   ]
  },
  {
   "cell_type": "markdown",
   "metadata": {},
   "source": [
    "Importando a base de dados de apoio"
   ]
  },
  {
   "cell_type": "code",
   "execution_count": 115,
   "metadata": {},
   "outputs": [],
   "source": [
    "Base_Apoio = pd.read_csv('https://raw.githubusercontent.com/pcmassonjr/ProjetoAplicado/main/Base%20de%20Dados/InstrumentsConsolidatedFile_20240401_1.csv', sep=';', encoding='ISO-8859-1', low_memory=False)"
   ]
  },
  {
   "cell_type": "markdown",
   "metadata": {},
   "source": [
    "Vinculando a base principal com a base de apoio"
   ]
  },
  {
   "cell_type": "code",
   "execution_count": 116,
   "metadata": {},
   "outputs": [],
   "source": [
    "Base_Final = pd.merge(Base_Consolidada, Base_Apoio, on= 'TckrSymb')"
   ]
  },
  {
   "cell_type": "markdown",
   "metadata": {},
   "source": [
    "Filtrando as comodities (Boi Gordo, Ouro, Soja, etc)"
   ]
  },
  {
   "cell_type": "code",
   "execution_count": 117,
   "metadata": {},
   "outputs": [],
   "source": [
    "Base_Final_Filtrada = Base_Final[Base_Final['Asst'].isin(['BGI', 'ICF', 'ETH', 'CCM', 'OZ1', 'SOY'])]"
   ]
  },
  {
   "cell_type": "markdown",
   "metadata": {},
   "source": [
    "Criando um data frame com os valores agrupados"
   ]
  },
  {
   "cell_type": "code",
   "execution_count": 127,
   "metadata": {},
   "outputs": [],
   "source": [
    "Base_Agrupada = Base_Final_Filtrada.groupby(['Dia', 'AsstDesc']).agg({'MinPric': 'mean', 'MaxPric': 'mean', 'TradAvrgPric': 'mean'})"
   ]
  },
  {
   "cell_type": "markdown",
   "metadata": {},
   "source": [
    "Criacao das visualizacoes"
   ]
  },
  {
   "cell_type": "code",
   "execution_count": 128,
   "metadata": {},
   "outputs": [
    {
     "data": {
      "text/plain": [
       "<Axes: xlabel='Dia', ylabel='MinPric'>"
      ]
     },
     "execution_count": 128,
     "metadata": {},
     "output_type": "execute_result"
    },
    {
     "data": {
      "image/png": "[encoded data removed]",
      "text/plain": [
       "<Figure size 640x480 with 1 Axes>"
      ]
     },
     "metadata": {},
     "output_type": "display_data"
    }
   ],
   "source": [
    "sns.lineplot(data=Base_Agrupada, x='Dia', y='MinPric', hue='AsstDesc')"
   ]
  }
 ],
 "metadata": {
  "kernelspec": {
   "display_name": "Python 3",
   "language": "python",
   "name": "python3"
  },
  "language_info": {
   "codemirror_mode": {
    "name": "ipython",
    "version": 3
   },
   "file_extension": ".py",
   "mimetype": "text/x-python",
   "name": "python",
   "nbconvert_exporter": "python",
   "pygments_lexer": "ipython3",
   "version": "3.11.8"
  }
 },
 "nbformat": 4,
 "nbformat_minor": 2
}
